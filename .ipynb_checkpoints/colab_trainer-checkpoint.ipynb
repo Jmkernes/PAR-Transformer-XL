{
 "cells": [
  {
   "cell_type": "code",
   "execution_count": null,
   "metadata": {},
   "outputs": [],
   "source": [
    "%%capture\n",
    "!pip install tensorflow_text\n",
    "!git clone https://github.com/Jmkernes/PAR-Transformer-XL.git\n",
    "%cd PAR-Transformer-XL/"
   ]
  },
  {
   "cell_type": "code",
   "execution_count": null,
   "metadata": {},
   "outputs": [],
   "source": [
    "%load_ext autoreload\n",
    "%autoreload 2"
   ]
  },
  {
   "cell_type": "code",
   "execution_count": 613,
   "metadata": {},
   "outputs": [
    {
     "name": "stdout",
     "output_type": "stream",
     "text": [
      "INFO:tensorflow:Enabled check-numerics callback in thread MainThread\n"
     ]
    },
    {
     "name": "stderr",
     "output_type": "stream",
     "text": [
      "INFO:tensorflow:Enabled check-numerics callback in thread MainThread\n"
     ]
    }
   ],
   "source": [
    "import logging\n",
    "logging.info(\"\\n\\n~~~~~~~~ Importing Modules ~~~~~~~~\\n\")\n",
    "\n",
    "import os\n",
    "import time\n",
    "import datetime\n",
    "import numpy as np\n",
    "import tensorflow as tf\n",
    "import tensorflow_text as tf_text\n",
    "import matplotlib.pyplot as plt\n",
    "from data_utils import DataManager\n",
    "from utils import print_bar, visualize_pi_weights\n",
    "from par_model import PARTransformerXL\n",
    "from par_model import create_lookahead_mask, positional_encoding\n",
    "\n",
    "tf.debugging.enable_check_numerics()\n",
    "tf.autograph.set_verbosity(0)\n",
    "\n",
    "def load_datasets(train, val, test):\n",
    "    \"\"\"Load the wikitext2 train, validation and test data\"\"\"\n",
    "    logging.info(f\"\\nLoading training data from: {train}\")\n",
    "    config = {'tfrecords_directory': train,'sp_model_prefix': 'wiki2_12k'}\n",
    "    train_dm = DataManager.initialize_from_tfrecord(config)\n",
    "\n",
    "    logging.info(f\"\\nLoading validation data from: {val}\")\n",
    "    config['tfrecords_directory'] = val\n",
    "    valid_dm = DataManager.initialize_from_tfrecord(config)\n",
    "\n",
    "    logging.info(f\"\\nLoading testing data from: {test}\\n\")\n",
    "    config['tfrecords_directory'] = test\n",
    "    test_dm = DataManager.initialize_from_tfrecord(config)\n",
    "\n",
    "    return train_dm, valid_dm, test_dm\n",
    "\n",
    "class TransformerSchedule(tf.keras.optimizers.schedules.LearningRateSchedule):\n",
    "    def __init__(self, d_model, warmup_steps=4000, **kwargs):\n",
    "        super().__init__(**kwargs)\n",
    "        self.d_model = tf.cast(d_model, tf.float32)\n",
    "        self.warmup_steps = warmup_steps\n",
    "    def __call__(self, step):\n",
    "        arg1 = tf.math.rsqrt(step)\n",
    "        arg2 = step * (self.warmup_steps ** -1.5)\n",
    "        return tf.math.rsqrt(self.d_model) * tf.math.minimum(arg1, arg2)\n",
    "\n",
    "class CosineSchedule(tf.keras.optimizers.schedules.LearningRateSchedule):\n",
    "    def __init__(self, max_lr, decay_steps, warmup_steps=4000, **kwargs):\n",
    "        super().__init__(**kwargs)\n",
    "        self.max_lr = max_lr\n",
    "        self.decay_steps = decay_steps\n",
    "        self.warmup_steps = warmup_steps\n",
    "        self.pi = 3.1415927\n",
    "    def __call__(self, step):\n",
    "        linear = self.max_lr*(step/self.warmup_steps)\n",
    "        cosine = 0.5*self.max_lr*(1+tf.math.cos(self.pi*tf.math.maximum(step-self.warmup_steps, 0)/self.decay_steps))\n",
    "        return tf.math.minimum(linear, cosine)    "
   ]
  },
  {
   "cell_type": "code",
   "execution_count": 614,
   "metadata": {},
   "outputs": [
    {
     "data": {
      "text/plain": [
       "[<matplotlib.lines.Line2D at 0x7fbb48d82a30>]"
      ]
     },
     "execution_count": 614,
     "metadata": {},
     "output_type": "execute_result"
    },
    {
     "data": {
      "image/png": "[encoded data removed]",
      "text/plain": [
       "<Figure size 432x288 with 1 Axes>"
      ]
     },
     "metadata": {
      "needs_background": "light"
     },
     "output_type": "display_data"
    }
   ],
   "source": [
    "learning_rate = CosineSchedule(1e-3, 4000, 2000)\n",
    "plt.plot(learning_rate(tf.range(6000.)))"
   ]
  },
  {
   "cell_type": "code",
   "execution_count": 615,
   "metadata": {},
   "outputs": [],
   "source": [
    "# checkpointing and tensorboard params\n",
    "model_name='base'#datetime.datetime.now().strftime(\"%Y%m%d-%H%M%S\")\n",
    "\n",
    "# data params\n",
    "train_directory='data/wikitext2_bsz32_seqlen32_tfrecords_train'\n",
    "valid_directory='data/wikitext2_bsz32_seqlen32_tfrecords_valid'\n",
    "test_directory='data/wikitext2_bsz32_seqlen32_tfrecords_test'\n",
    "\n",
    "# model params\n",
    "d_model=256\n",
    "num_heads=8\n",
    "d_ffn=1024\n",
    "num_layers=12\n",
    "mem_len=32\n",
    "dropout_rate=0.1\n",
    "cutoffs=[250, 2500]\n",
    "proj_factor=4\n",
    "proj_dims=[]\n",
    "\n",
    "# small version for testing\n",
    "# d_model=64\n",
    "# num_heads=2\n",
    "# d_ffn=128\n",
    "# num_layers=4\n",
    "# mem_len=32\n",
    "# dropout_rate=0.1\n",
    "# cutoffs=[250, 2500]\n",
    "# proj_factor=2\n",
    "# proj_dims=[]\n",
    "\n",
    "# learning params\n",
    "warmup_steps=4000\n",
    "tau_start=2.0\n",
    "tau_end=0.2\n",
    "epochs=5\n",
    "tau_is_trainable=False\n",
    "opt_name='adam'"
   ]
  },
  {
   "cell_type": "code",
   "execution_count": 662,
   "metadata": {},
   "outputs": [],
   "source": [
    "# Take care of some flags logic beyond simple constraints.\n",
    "if d_model%num_heads:\n",
    "    raise ValueError('Number of heads must divide d_model')\n",
    "\n",
    "train_dm, valid_dm, test_dm = load_datasets(train_directory, valid_directory, test_directory)\n",
    "\n",
    "## Set global constants inferred from the training data.\n",
    "BATCH_SIZE = train_dm.batch_size\n",
    "SEQ_LEN = train_dm.seq_len\n",
    "VOCAB_SIZE = train_dm.tokenizer.vocab_size().numpy()\n",
    "DATASET_SIZE = train_dm.ds_size.numpy()\n",
    "MAX_POSITION = max(512, mem_len+SEQ_LEN)\n",
    "\n",
    "# Take care of additional constraints on inputs that needed the vocab size\n",
    "if any([z>=VOCAB_SIZE for z in cutoffs]) or len(set(cutoffs))!=len(cutoffs):\n",
    "    raise ValueError(\"Cutoffs must not exceed {VOCAB_SIZE} or contain duplicates.\")\n",
    "if cutoffs:\n",
    "    cutoffs.sort()\n",
    "    cutoffs.append(VOCAB_SIZE)\n",
    "\n",
    "### Define learning rate schedule and simulated annealing schedule for gumbel softmax temperature tau.\n",
    "logging.info(f\"\\n\\nInitializing {opt_name} optimizer with {warmup_steps} warmup steps.\")\n",
    "learning_rate = CosineSchedule(max_lr=5e-4, warmup_steps=4000, decay_steps=DATASET_SIZE*epochs-4000)\n",
    "optimizer = tf.keras.optimizers.get(opt_name)\n",
    "optimizer.learning_rate = learning_rate\n",
    "\n",
    "if tau_is_trainable:\n",
    "    logging.info(f\"\\n\\nInitializing exponential tau decay: {tau_start}-->{tau_end}.\\n\")\n",
    "tau = tf.keras.optimizers.schedules.ExponentialDecay(\n",
    "    initial_learning_rate=tau_start,\n",
    "    decay_steps=DATASET_SIZE*epochs,\n",
    "    decay_rate=tau_end\n",
    ")"
   ]
  },
  {
   "cell_type": "code",
   "execution_count": 661,
   "metadata": {},
   "outputs": [],
   "source": [
    "# Setup the model\n",
    "tf.keras.backend.clear_session()\n",
    "config = {\n",
    "    'd_model': d_model,\n",
    "    'num_heads': num_heads,\n",
    "    'max_position': MAX_POSITION,\n",
    "    'd_ffn': d_ffn,\n",
    "    'num_layers': num_layers,\n",
    "    'mem_len': mem_len,\n",
    "    'vocab_size': VOCAB_SIZE,\n",
    "    'dropout_rate': dropout_rate,\n",
    "    'cutoffs': cutoffs,\n",
    "    'proj_factor': proj_factor,\n",
    "    'proj_dims': proj_dims,\n",
    "}\n",
    "logging.info(\"\\n\\nInitializing model...\")\n",
    "logging.info(\"Model parameters:\")\n",
    "logging.info(config)\n",
    "pos_enc = positional_encoding(MAX_POSITION, d_model)\n",
    "lookahead_mask = create_lookahead_mask(MAX_POSITION, MAX_POSITION)\n",
    "model = PARTransformerXL(**config)\n",
    "\n",
    "# Build model by feeding in sample training data\n",
    "x_temp, y_temp = next(iter(train_dm.get_inp_tar_pairs()))\n",
    "model(x_temp, None, labels=y_temp, training=False)\n",
    "\n",
    "# make tau untrainable\n",
    "if not tau_is_trainable:\n",
    "    for layer in model.layers:\n",
    "        if hasattr(layer, 'tau'):\n",
    "            layer.tau = tf.cast(tf.constant(1.), tf.float32)"
   ]
  },
  {
   "cell_type": "code",
   "execution_count": 618,
   "metadata": {},
   "outputs": [
    {
     "name": "stdout",
     "output_type": "stream",
     "text": [
      "Model: \"par_transformer_xl\"\n",
      "_________________________________________________________________\n",
      "Layer (type)                 Output Shape              Param #   \n",
      "=================================================================\n",
      "embedding (Embedding)        multiple                  768000    \n",
      "_________________________________________________________________\n",
      "adaptive_softmax (AdaptiveSo multiple                  255250    \n",
      "_________________________________________________________________\n",
      "stochastic_block (Stochastic multiple                  37763     \n",
      "_________________________________________________________________\n",
      "stochastic_block_1 (Stochast multiple                  37763     \n",
      "_________________________________________________________________\n",
      "stochastic_block_2 (Stochast multiple                  37763     \n",
      "_________________________________________________________________\n",
      "stochastic_block_3 (Stochast multiple                  37763     \n",
      "_________________________________________________________________\n",
      "inp_dropout (Dropout)        multiple                  0         \n",
      "=================================================================\n",
      "Total params: 1,174,302\n",
      "Trainable params: 1,174,302\n",
      "Non-trainable params: 0\n",
      "_________________________________________________________________\n"
     ]
    }
   ],
   "source": [
    "# print out model summary\n",
    "logging.info(\"\\nModel summary:\")\n",
    "logging.info(model.summary())\n",
    "\n",
    "# Define metrics\n",
    "train_loss = tf.keras.metrics.Mean()\n",
    "valid_loss = tf.keras.metrics.Mean()\n",
    "train_perp = tf.keras.metrics.Mean()\n",
    "valid_perp = tf.keras.metrics.Mean()\n",
    "\n",
    "logging.info(\"\\n\\nDefining training and evaluation steps...\")\n",
    "# Define the training and evaluation steps via tf functions\n",
    "@tf.function\n",
    "def train_step(inp, x_mems, labels, tau):\n",
    "    with tf.GradientTape() as tape:\n",
    "        loss, mems = model(inp, x_mems=x_mems, labels=labels, training=True, tau=tau)\n",
    "    grads = tape.gradient(loss, model.trainable_variables)\n",
    "    grads = [tf.clip_by_norm(g, 0.1) for g in grads]\n",
    "    optimizer.apply_gradients(zip(grads, model.trainable_variables))\n",
    "    train_loss(loss)\n",
    "    train_perp(tf.math.exp(loss))\n",
    "    return mems\n",
    "\n",
    "@tf.function\n",
    "def evaluation_step(x, x_mems, labels, tau):\n",
    "    loss, mems = model(x, x_mems=x_mems, labels=labels, tau=tau, training=False)\n",
    "    valid_loss(loss)\n",
    "    valid_perp(tf.math.exp(loss))\n",
    "    return mems\n",
    "\n",
    "def evaluation(dataset, tau):\n",
    "    x_mems = None\n",
    "    for x, lbl in dataset:\n",
    "        x_mems = evaluation_step(x, x_mems, lbl, tau)"
   ]
  },
  {
   "cell_type": "code",
   "execution_count": 660,
   "metadata": {},
   "outputs": [],
   "source": [
    "# Set up TensorBoard\n",
    "logging.info(\"\\n\\nInitializing TensorBoard...\")\n",
    "train_log_dir = './logs/' + model_name + '/train'\n",
    "test_log_dir = './logs/' + model_name + '/test'\n",
    "train_summary_writer = tf.summary.create_file_writer(train_log_dir)\n",
    "test_summary_writer = tf.summary.create_file_writer(test_log_dir)\n",
    "\n",
    "# load tensorboard using in-notebook command\n",
    "%load_ext tensorboard\n",
    "%tensorboard --logdir logs\n",
    "\n",
    "# Configure datasets for training\n",
    "logging.info(\"\\n\\nConfiguring datasets for training. Caching, prefetching...\")\n",
    "glob_step = tf.Variable(0, dtype=tf.int64) # This will break tf.summary if we use int32\n",
    "train_ds = train_dm.get_inp_tar_pairs().cache().prefetch(tf.data.AUTOTUNE)\n",
    "valid_ds = valid_dm.get_inp_tar_pairs().prefetch(tf.data.AUTOTUNE)\n",
    "iterator=iter(train_ds)\n",
    "\n",
    "# Set up checkpointing to periodically save the model every epoch\n",
    "checkpoint_path = \"./checkpoints/train/\"+model_name\n",
    "logging.info(f\"\\n\\nInitializing checkpoints. Models will be saved to {checkpoint_path}\")\n",
    "ckpt = tf.train.Checkpoint(\n",
    "    model=model,\n",
    "    optimizer=optimizer,\n",
    "    glob_step=glob_step,\n",
    "    iterator=iterator\n",
    ")\n",
    "ckpt_manager = tf.train.CheckpointManager(ckpt, checkpoint_path, max_to_keep=5)\n",
    "if ckpt_manager.latest_checkpoint:\n",
    "    try:\n",
    "        ckpt.restore(ckpt_manager.latest_checkpoint)\n",
    "        logging.info('Latest checkpoint restored!!')\n",
    "    except:\n",
    "        logging.warning(\"Model may have changed, could not restore checkpoint.\")"
   ]
  },
  {
   "cell_type": "code",
   "execution_count": 620,
   "metadata": {},
   "outputs": [],
   "source": [
    "# log initial checkpoint\n",
    "ckpt_save_path = ckpt_manager.save()"
   ]
  },
  {
   "cell_type": "code",
   "execution_count": 624,
   "metadata": {},
   "outputs": [
    {
     "name": "stdout",
     "output_type": "stream",
     "text": [
      "---------- Epoch 1/5 ----------\n",
      "Iteration 50/50: [==========>] 4.45 it/s. Est: 00m 00s Loss: 8.261\n",
      "---------- Epoch 2/5 ----------\n",
      "Iteration 50/50: [==========>] 3.70 it/s. Est: 00m 00s Loss: 8.177\n",
      "---------- Epoch 3/5 ----------\n",
      "Iteration 50/50: [==========>] 3.64 it/s. Est: 00m 00s Loss: 8.053\n",
      "---------- Epoch 4/5 ----------\n",
      "Iteration 50/50: [==========>] 3.71 it/s. Est: 00m 00s Loss: 7.865\n",
      "---------- Epoch 5/5 ----------\n",
      "Iteration 50/50: [==========>] 3.87 it/s. Est: 00m 00s Loss: 7.647\n"
     ]
    }
   ],
   "source": [
    "# Run the actual training loop!\n",
    "logging.info(\"\\n\\n~~~~~~~~~~ Beginning training ~~~~~~~~~~\")\n",
    "for epoch in range(epochs):\n",
    "\n",
    "#     logging.info('-'*10+f' Epoch {epoch+1}/{epochs} '+'-'*10)\n",
    "    print('-'*10+f' Epoch {epoch+1}/{epochs} '+'-'*10)\n",
    "    start = time.time()\n",
    "    for x in [train_loss, valid_loss, train_perp, valid_perp]:\n",
    "        x.reset_states()\n",
    "    mems = None\n",
    "\n",
    "    for step, (inp, lbl) in enumerate(train_ds:\n",
    "\n",
    "        mems = train_step(inp, mems, lbl, tau(glob_step))\n",
    "\n",
    "        diff = (time.time()-start)/(step+1)\n",
    "        print_bar(step, DATASET_SIZE, diff, train_loss.result().numpy())\n",
    "\n",
    "        with train_summary_writer.as_default():\n",
    "            tf.summary.scalar('train_loss', train_loss.result(), step=glob_step)\n",
    "            tf.summary.scalar('train_perp', train_perp.result(), step=glob_step)\n",
    "            tf.summary.scalar('tau', tau(glob_step), step=glob_step)\n",
    "        glob_step.assign_add(1)\n",
    "\n",
    "    evaluation(valid_ds, tau(glob_step))\n",
    "    with test_summary_writer.as_default():\n",
    "        tf.summary.scalar('valid_loss', valid_loss.result(), step=glob_step)\n",
    "        tf.summary.scalar('valid_perp', valid_perp.result(), step=glob_step)\n",
    "\n",
    "    ckpt_save_path = ckpt_manager.save()\n",
    "    logging.info(f'Saving checkpoint for epoch {epoch+1} at {ckpt_save_path}')\n",
    "    \n",
    "    visualize_pi_weights(model)\n",
    "    plt.show()"
   ]
  },
  {
   "cell_type": "code",
   "execution_count": 667,
   "metadata": {},
   "outputs": [],
   "source": [
    "# load in a model from checkpoint\n",
    "if False:\n",
    "    new_model = PARTransformerXL(**config)\n",
    "    new_model.build(input_shape=[32, 32])\n",
    "    # make tau untrainable\n",
    "    if not tau_is_trainable:\n",
    "        for layer in new_model.layers:\n",
    "            if hasattr(layer, 'tau'):\n",
    "                layer.tau = tf.cast(tf.constant(1.), tf.float32)\n",
    "    ckpt = tf.train.Checkpoint(\n",
    "        model=new_model\n",
    "    )\n",
    "    ckpt.restore(ckpt_manager.latest_checkpoint)\n",
    "\n",
    "    for i in range(len(model.weights)):\n",
    "        bl tf.experimental.numpy.allclose(\n",
    "            new_model.weights[i], model.weights[i])\n",
    "        print(f\"Weights {i}: {bl}\")"
   ]
  },
  {
   "cell_type": "code",
   "execution_count": 771,
   "metadata": {},
   "outputs": [
    {
     "data": {
      "image/png": "[encoded data removed]",
      "text/plain": [
       "<Figure size 864x576 with 1 Axes>"
      ]
     },
     "metadata": {
      "needs_background": "light"
     },
     "output_type": "display_data"
    }
   ],
   "source": [
    "weights = np.random.rand(12, 3)\n",
    "weights /= np.sum(weights, -1, keepdims=True)\n",
    "_, _ = stochastic_block_plot(weights)"
   ]
  },
  {
   "cell_type": "code",
   "execution_count": 758,
   "metadata": {},
   "outputs": [],
   "source": [
    "from  import stochastic_block_plot"
   ]
  },
  {
   "cell_type": "code",
   "execution_count": null,
   "metadata": {},
   "outputs": [],
   "source": []
  }
 ],
 "metadata": {
  "kernelspec": {
   "display_name": "Python 3",
   "language": "python",
   "name": "python3"
  },
  "language_info": {
   "codemirror_mode": {
    "name": "ipython",
    "version": 3
   },
   "file_extension": ".py",
   "mimetype": "text/x-python",
   "name": "python",
   "nbconvert_exporter": "python",
   "pygments_lexer": "ipython3",
   "version": "3.8.3"
  }
 },
 "nbformat": 4,
 "nbformat_minor": 4
}
